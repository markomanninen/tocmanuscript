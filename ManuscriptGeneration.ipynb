{
  "cells": [
    {
      "cell_type": "code",
      "execution_count": 1,
      "id": "e85ffb6b-ecbd-4e5d-9bf0-bda3bd11b3f2",
      "metadata": {
        "ExecuteTime": {
          "end_time": "2023-08-08T12:54:54.766127+00:00",
          "start_time": "2023-08-08T12:54:54.605387+00:00"
        },
        "noteable": {
          "cell_type": "code",
          "output_collection_id": "fb4d61b2-1d63-4958-a4ff-23cb770ff70f"
        }
      },
      "outputs": [
        {
          "name": "stdout",
          "output_type": "stream",
          "text": [
            "Output directory set to: c:\\Users\\Marko.Manninen\\Documents\\GitHub\\tocmanuscript\\output\n"
          ]
        }
      ],
      "source": [
        "from tocmanuscript import ToCManuscript, Prompt, Author, docs, configure\n",
        "configure(output_directory=\"output\")"
      ]
    },
    {
      "cell_type": "code",
      "execution_count": 2,
      "id": "a43c66c8-c9ec-4aa1-9941-db35dc01ba9e",
      "metadata": {
        "ExecuteTime": {
          "end_time": "2023-08-08T12:54:55.098236+00:00",
          "start_time": "2023-08-08T12:54:54.940617+00:00"
        },
        "noteable": {
          "cell_type": "code",
          "output_collection_id": "c453ed5f-7553-4666-857c-16e52d5ee901"
        }
      },
      "outputs": [
        {
          "name": "stdout",
          "output_type": "stream",
          "text": [
            "Manuscript was restored from the previous state\n"
          ]
        }
      ],
      "source": [
        "author = Author(\"Marko T. Manninen\")\n",
        "toc_manuscript = ToCManuscript(\n",
        "    title=\"The Forgotten Experiment\",\n",
        "    subtitle=\"The Tale of Lise Meitner and the Discovery of Nuclear Fission\",\n",
        "    author=author,\n",
        "    disclaimer=\"A.I. generated content for demonstration purposes only. Facts are not checked.\"\n",
        ")"
      ]
    },
    {
      "cell_type": "code",
      "execution_count": 3,
      "id": "0882bb2c-4895-4ffc-9a02-ae827dab70d3",
      "metadata": {
        "ExecuteTime": {
          "end_time": "2023-08-08T12:54:55.623254+00:00",
          "start_time": "2023-08-08T12:54:55.461896+00:00"
        },
        "noteable": {
          "cell_type": "code",
          "output_collection_id": "6f54f942-3544-48b7-8e1e-27e61a3a9756"
        }
      },
      "outputs": [],
      "source": [
        "guidelines = {\n",
        "    'Role': 'Narrator',\n",
        "    'Style': 'Informative and Engaging',\n",
        "    'Format': 'Essay',\n",
        "    'Context': 'Historical and Scientific',\n",
        "    'Audience Awareness': 'General readers with an interest in science and history',\n",
        "    'Structuring and Organization': 'Logical flow with clear transitions between sections',\n",
        "    'Tone and Voice': 'Professional yet accessible, creating a connection with the reader',\n",
        "    'Active vs. Passive Voice': 'Prefer active voice for direct and engaging writing'\n",
        "}\n",
        "constraints = {\n",
        "    'Content': 'Emit main heading/title in the beginning; Emit the conclusive part at the end of the text; Exclude slang or colloquial language; Do not consume topics and content from the future chapters and sections; Avoid fragmented structures with lots of subtitles'\n",
        "}\n",
        "\n",
        "toc_manuscript.set_guidelines(guidelines)\n",
        "toc_manuscript.set_constraints(constraints)"
      ]
    },
    {
      "cell_type": "code",
      "execution_count": 4,
      "id": "2b4d511a-d265-4c8d-87c6-4c3549f80b5f",
      "metadata": {
        "ExecuteTime": {
          "end_time": "2023-08-08T12:54:58.512977+00:00",
          "start_time": "2023-08-08T12:54:58.353473+00:00"
        },
        "noteable": {
          "cell_type": "code",
          "output_collection_id": "22ca7f9b-e936-41ca-a9b7-88466604a626"
        }
      },
      "outputs": [],
      "source": [
        "# Chapter 1: Introduction\n",
        "section_1_1_prompt = Prompt(directives={'Instruction': 'Provide an overview of the background of nuclear physics, including key concepts and historical developments.'})\n",
        "section_1_2_prompt = Prompt(directives={'Instruction': 'Write a brief biography of Lise Meitner, focusing on her early life, education, and scientific contributions.'})\n",
        "\n",
        "toc_manuscript.set_section([1], title='Introduction')\n",
        "toc_manuscript.set_section([1, 1], title='Background of Nuclear Physics', prompt=section_1_1_prompt)\n",
        "toc_manuscript.set_section([1, 2], title='Lise Meitner: A Brief Biography', prompt=section_1_2_prompt)\n",
        "\n",
        "# Chapter 2: The Collaboration with Otto Hahn\n",
        "section_2_1_prompt = Prompt(directives={'Instruction': 'Describe the early years of collaboration between Lise Meitner and Otto Hahn, including their scientific goals and achievements.'})\n",
        "section_2_2_prompt = Prompt(directives={'Instruction': 'Explore the quest for new elements by Lise Meitner and Otto Hahn, including the experiments, discoveries, and challenges they faced.'})\n",
        "\n",
        "toc_manuscript.set_section([2], title='The Collaboration with Otto Hahn')\n",
        "toc_manuscript.set_section([2, 1], title='Early Years of Collaboration', prompt=section_2_1_prompt)\n",
        "toc_manuscript.set_section([2, 2], title='The Quest for New Elements', prompt=section_2_2_prompt)"
      ]
    },
    {
      "cell_type": "code",
      "execution_count": 5,
      "id": "f23ded78-b0d5-4f45-baca-b76c4e4cdf92",
      "metadata": {
        "ExecuteTime": {
          "end_time": "2023-08-08T12:54:58.698647+00:00",
          "start_time": "2023-08-08T12:54:58.539961+00:00"
        },
        "noteable": {
          "cell_type": "code",
          "output_collection_id": "a3829b99-350a-4881-9340-40b26c893e05"
        }
      },
      "outputs": [],
      "source": [
        "# Chapter 3: The Discovery of Nuclear Fission\n",
        "section_3_1_prompt = Prompt(directives={'Instruction': 'Describe the puzzling experiment that led to the discovery of nuclear fission, including the setup, observations, and initial interpretations.'})\n",
        "section_3_2_prompt = Prompt(directives={'Instruction': 'Explain the breakthrough insight that allowed Lise Meitner and her collaborators to understand nuclear fission, including the scientific reasoning and the role of key individuals.'})\n",
        "section_3_3_prompt = Prompt(directives={'Instruction': 'Discuss the impact of the discovery of nuclear fission on science, technology, and society, including its influence on subsequent research and applications.'})\n",
        "\n",
        "toc_manuscript.set_section([3], title='The Discovery of Nuclear Fission')\n",
        "toc_manuscript.set_section([3, 1], title='EThe Puzzling Experiment', prompt=section_3_1_prompt)\n",
        "toc_manuscript.set_section([3, 2], title='he Breakthrough Insight', prompt=section_3_2_prompt)\n",
        "toc_manuscript.set_section([3, 3], title='The Impact on Science', prompt=section_3_3_prompt)"
      ]
    },
    {
      "cell_type": "code",
      "execution_count": 6,
      "id": "c35b7ac4-b8e7-416a-b91e-8f02336e1c18",
      "metadata": {
        "ExecuteTime": {
          "end_time": "2023-08-08T12:54:59.996736+00:00",
          "start_time": "2023-08-08T12:54:59.835237+00:00"
        },
        "noteable": {
          "cell_type": "code",
          "output_collection_id": "1adb6e56-4fd5-409a-936b-97c631902413"
        }
      },
      "outputs": [],
      "source": [
        "# Chapter 4: Challenges and Triumphs\n",
        "section_4_1_prompt = Prompt(directives={'Instruction': 'Discuss the gender barriers in science that Lise Meitner faced, including societal attitudes, institutional challenges, and personal experiences.'})\n",
        "section_4_2_prompt = Prompt(directives={'Instruction': 'Detail the recognition and awards that Lise Meitner received, including honors, accolades, and her legacy in the scientific community.'})\n",
        "\n",
        "toc_manuscript.set_section([4], title='Challenges and Triumphs')\n",
        "toc_manuscript.set_section([4, 1], title='Gender Barriers in Science', prompt=section_4_1_prompt)\n",
        "toc_manuscript.set_section([4, 2], title='Recognition and Awards', prompt=section_4_2_prompt)\n",
        "\n",
        "# Chapter 5: Conclusion\n",
        "section_5_1_prompt = Prompt(directives={'Instruction': 'Reflect on the legacy of Lise Meitner, including her contributions to science, her influence on future generations, and her enduring significance.'})\n",
        "section_5_2_prompt = Prompt(directives={'Instruction': 'Discuss the continuing quest for knowledge in nuclear physics and related fields, and how the work of Lise Meitner and her contemporaries continues to inspire.'})\n",
        "\n",
        "toc_manuscript.set_section([5], title='Conclusion')\n",
        "toc_manuscript.set_section([5, 1], title='Legacy of Lise Meitner', prompt=section_5_1_prompt)\n",
        "toc_manuscript.set_section([5, 2], title='The Continuing Quest for Knowledge', prompt=section_5_2_prompt)"
      ]
    },
    {
      "cell_type": "code",
      "execution_count": 7,
      "id": "78236c37-15fd-4281-9ce9-96b7d820983f",
      "metadata": {
        "ExecuteTime": {
          "end_time": "2023-08-08T12:55:21.389885+00:00",
          "start_time": "2023-08-08T12:55:21.229219+00:00"
        },
        "noteable": {
          "cell_type": "code",
          "output_collection_id": "b777a08d-e172-49c3-9eb9-a9ac4b352f67"
        }
      },
      "outputs": [
        {
          "name": "stdout",
          "output_type": "stream",
          "text": [
            "[1] Introduction \n",
            "Section title 'Introduction' has no prompt for the content generation. Move on to the next section?\n",
            "{'current_index': [1], 'current_prompt': ''}\n",
            "[1, 1] Background of Nuclear Physics Prompt(directives: {'Instruction': 'Provide an overview of the background of nuclear physics, including key concepts and historical developments.'}, guidelines: {'Role': 'Narrator', 'Style': 'Informative and Engaging', 'Format': 'Essay', 'Context': 'Historical and Scientific', 'Audience Awareness': 'General readers with an interest in science and history', 'Structuring and Organization': 'Logical flow with clear transitions between sections', 'Tone and Voice': 'Professional yet accessible, creating a connection with the reader', 'Active vs. Passive Voice': 'Prefer active voice for direct and engaging writing'}, constraints: {'Content': 'Emit main heading/title in the beginning; Emit the conclusive part at the end of the text; Exclude slang or colloquial language; Do not consume topics and content from the future chapters and sections; Avoid fragmented structures with lots of subtitles'})\n",
            "[1, 2] Lise Meitner: A Brief Biography Prompt(directives: {'Instruction': 'Write a brief biography of Lise Meitner, focusing on her early life, education, and scientific contributions.'}, guidelines: {'Role': 'Narrator', 'Style': 'Informative and Engaging', 'Format': 'Essay', 'Context': 'Historical and Scientific', 'Audience Awareness': 'General readers with an interest in science and history', 'Structuring and Organization': 'Logical flow with clear transitions between sections', 'Tone and Voice': 'Professional yet accessible, creating a connection with the reader', 'Active vs. Passive Voice': 'Prefer active voice for direct and engaging writing'}, constraints: {'Content': 'Emit main heading/title in the beginning; Emit the conclusive part at the end of the text; Exclude slang or colloquial language; Do not consume topics and content from the future chapters and sections; Avoid fragmented structures with lots of subtitles'})\n",
            "{'current_index': [1, 1], 'current_prompt': Prompt(directives={'Instruction': 'Provide an overview of the background of nuclear physics, including key concepts and historical developments.'}, guidelines={'Role': 'Narrator', 'Style': 'Informative and Engaging', 'Format': 'Essay', 'Context': 'Historical and Scientific', 'Audience Awareness': 'General readers with an interest in science and history', 'Structuring and Organization': 'Logical flow with clear transitions between sections', 'Tone and Voice': 'Professional yet accessible, creating a connection with the reader', 'Active vs. Passive Voice': 'Prefer active voice for direct and engaging writing'}, constraints={'Content': 'Emit main heading/title in the beginning; Emit the conclusive part at the end of the text; Exclude slang or colloquial language; Do not consume topics and content from the future chapters and sections; Avoid fragmented structures with lots of subtitles'}), 'next_prompt_directives': {'Instruction': 'Write a brief biography of Lise Meitner, focusing on her early life, education, and scientific contributions.'}}\n"
          ]
        }
      ],
      "source": [
        "# Moving to the next section and getting instruction for content creation.\n",
        "print(toc_manuscript.move_to_next_section_and_get_prompts())\n",
        "# The first section is just a section title, moving to the next section.\n",
        "print(toc_manuscript.move_to_next_section_and_get_prompts())"
      ]
    },
    {
      "cell_type": "code",
      "execution_count": 8,
      "id": "e6b20354-ada9-4a00-bd1b-82b97df8f635",
      "metadata": {
        "ExecuteTime": {
          "end_time": "2023-08-08T12:55:30.587731+00:00",
          "start_time": "2023-08-08T12:55:30.429295+00:00"
        },
        "noteable": {
          "cell_type": "code",
          "output_collection_id": "6fc9e41c-f563-4eaa-9c8e-2531c2dc62b1"
        }
      },
      "outputs": [],
      "source": [
        "# Setting the content for the 'Background of Nuclear Physics' section and marking it as complete\n",
        "content = \"\"\"The origins of nuclear physics can be traced back to the late 19th century when scientists began to probe the inner workings of the atom. The discovery of radioactivity by Henri Becquerel in 1896, followed by Marie Curie's pioneering work on radium, laid the groundwork for understanding the nucleus's structure and behavior.\\n\\nIn 1911, Ernest Rutherford's groundbreaking experiment revealed that atoms have a dense central nucleus containing protons and neutrons, surrounded by orbiting electrons. This model replaced the earlier Thomson \\\"plum pudding\\\" model and set the stage for the development of quantum mechanics.\\n\\nNiels Bohr's model of the atom in 1913 introduced quantized energy levels, explaining the spectral lines observed in hydrogen. This marked a significant step towards the development of quantum mechanics, a revolutionary theory that would transform physics.\\n\\nJames Chadwick's discovery of the neutron in 1932 provided a more complete understanding of the nucleus's composition. This finding opened the door to new research areas, including nuclear reactions and nuclear forces.\\n\\nThe 1930s and 1940s saw rapid advancements in understanding nuclear reactions, culminating in the discovery of nuclear fission by Lise Meitner and Otto Hahn. This discovery had profound implications, leading to the development of nuclear energy and the atomic bomb.\\n\\nThe latter half of the 20th century witnessed the development of the Standard Model, a theory that describes the fundamental particles and forces of nature. Ongoing research continues to push the boundaries of nuclear physics, exploring phenomena such as quarks, gluons, and the Higgs boson.\\n\\nThe background of nuclear physics is a tapestry of discovery, innovation, and exploration. From the early experiments with radioactivity to the cutting-edge research of today, nuclear physics has continually expanded our knowledge and challenged our perceptions. It is a field that continues to inspire, drive technological advancements, and deepen our understanding of the universe's fundamental nature.\\n\"\"\"\n",
        "toc_manuscript.set_currently_editing_content(content, completed=True)"
      ]
    },
    {
      "cell_type": "code",
      "execution_count": 9,
      "id": "489ef7bb-d781-46d5-81cc-86349351a11f",
      "metadata": {
        "ExecuteTime": {
          "end_time": "2023-08-08T12:55:41.125323+00:00",
          "start_time": "2023-08-08T12:55:40.966713+00:00"
        },
        "noteable": {
          "cell_type": "code",
          "output_collection_id": "c5f18762-e894-4adb-857b-9df5a95aa802"
        }
      },
      "outputs": [
        {
          "name": "stdout",
          "output_type": "stream",
          "text": [
            "[1, 2] Lise Meitner: A Brief Biography Prompt(directives: {'Instruction': 'Write a brief biography of Lise Meitner, focusing on her early life, education, and scientific contributions.'}, guidelines: {'Role': 'Narrator', 'Style': 'Informative and Engaging', 'Format': 'Essay', 'Context': 'Historical and Scientific', 'Audience Awareness': 'General readers with an interest in science and history', 'Structuring and Organization': 'Logical flow with clear transitions between sections', 'Tone and Voice': 'Professional yet accessible, creating a connection with the reader', 'Active vs. Passive Voice': 'Prefer active voice for direct and engaging writing'}, constraints: {'Content': 'Emit main heading/title in the beginning; Emit the conclusive part at the end of the text; Exclude slang or colloquial language; Do not consume topics and content from the future chapters and sections; Avoid fragmented structures with lots of subtitles'})\n",
            "[2] The Collaboration with Otto Hahn \n",
            "Section title 'The Collaboration with Otto Hahn' has no prompt for the content generation. Move on to the next section?\n",
            "{'current_index': [1, 2], 'current_prompt': Prompt(directives={'Instruction': 'Write a brief biography of Lise Meitner, focusing on her early life, education, and scientific contributions.'}, guidelines={'Role': 'Narrator', 'Style': 'Informative and Engaging', 'Format': 'Essay', 'Context': 'Historical and Scientific', 'Audience Awareness': 'General readers with an interest in science and history', 'Structuring and Organization': 'Logical flow with clear transitions between sections', 'Tone and Voice': 'Professional yet accessible, creating a connection with the reader', 'Active vs. Passive Voice': 'Prefer active voice for direct and engaging writing'}, constraints={'Content': 'Emit main heading/title in the beginning; Emit the conclusive part at the end of the text; Exclude slang or colloquial language; Do not consume topics and content from the future chapters and sections; Avoid fragmented structures with lots of subtitles'})}\n"
          ]
        }
      ],
      "source": [
        "# The first section is just a section title, moving to the next section.\n",
        "print(toc_manuscript.move_to_next_section_and_get_prompts())"
      ]
    },
    {
      "cell_type": "code",
      "execution_count": 10,
      "id": "6604ebac-0c27-4a85-bab1-540ad630f85e",
      "metadata": {
        "ExecuteTime": {
          "end_time": "2023-08-08T12:55:45.909799+00:00",
          "start_time": "2023-08-08T12:55:45.750940+00:00"
        },
        "noteable": {
          "cell_type": "code",
          "output_collection_id": "51f74d0b-e26f-4de4-9225-fbcc5f2cba0f"
        }
      },
      "outputs": [],
      "source": [
        "# Setting the content for the 'Lise Meitner: A Brief Biography' section and marking it as complete\n",
        "content = \"\"\"Lise Meitner's life and scientific career are a testament to perseverance, brilliance, and groundbreaking contributions to the field of nuclear physics. Born on November 7, 1878, in Vienna, Austria, Meitner's early education was marked by a passion for science, a field not commonly pursued by women of her time.\\n\\nMeitner's family supported her academic pursuits, and she attended the University of Vienna, where she studied physics. Under the guidance of Ludwig Boltzmann, she developed a strong foundation in theoretical physics. In 1905, she earned her doctorate, becoming the second woman to obtain a Ph.D. in physics at the university.\\n\\nMeitner's collaboration with chemist Otto Hahn began in 1907 when she moved to Berlin. Together, they conducted pioneering research on radioactivity and nuclear physics. Their partnership was marked by mutual respect and a shared commitment to scientific discovery.\\n\\nThe pinnacle of Meitner's career came in 1938 when she and Hahn discovered nuclear fission. Working with her nephew Otto Frisch, Meitner explained the theoretical basis of the fission process, a discovery that would have profound implications for both science and technology.\\n\\nMeitner's journey was not without challenges. As a female scientist in a male-dominated field, she faced barriers and biases. Her Jewish heritage also posed difficulties during the Nazi era, forcing her to flee Germany. Despite these obstacles, Meitner's contributions were eventually recognized, and she received numerous awards and honors.\\n\\nLise Meitner's legacy extends beyond her scientific achievements. Her integrity, courage, and dedication to the pursuit of knowledge continue to inspire scientists and researchers. Her role in the discovery of nuclear fission and her trailblazing efforts as a female scientist in a time of gender inequality make her a remarkable figure in the annals of science.\\n\"\"\"\n",
        "toc_manuscript.set_currently_editing_content(content, completed=True)"
      ]
    },
    {
      "cell_type": "code",
      "execution_count": 11,
      "id": "859dfad8-f754-4a51-8c0d-9f5b9df621cd",
      "metadata": {
        "ExecuteTime": {
          "end_time": "2023-08-08T12:56:10.826473+00:00",
          "start_time": "2023-08-08T12:56:10.666875+00:00"
        },
        "noteable": {
          "cell_type": "code",
          "output_collection_id": "604e24f3-58cc-44b6-b5b5-3e3eda2587ea"
        }
      },
      "outputs": [
        {
          "name": "stdout",
          "output_type": "stream",
          "text": [
            "[2] The Collaboration with Otto Hahn \n",
            "Section title 'The Collaboration with Otto Hahn' has no prompt for the content generation. Move on to the next section?\n",
            "{'current_index': [2], 'current_prompt': ''}\n",
            "[2, 1] Early Years of Collaboration Prompt(directives: {'Instruction': 'Describe the early years of collaboration between Lise Meitner and Otto Hahn, including their scientific goals and achievements.'}, guidelines: {'Role': 'Narrator', 'Style': 'Informative and Engaging', 'Format': 'Essay', 'Context': 'Historical and Scientific', 'Audience Awareness': 'General readers with an interest in science and history', 'Structuring and Organization': 'Logical flow with clear transitions between sections', 'Tone and Voice': 'Professional yet accessible, creating a connection with the reader', 'Active vs. Passive Voice': 'Prefer active voice for direct and engaging writing'}, constraints: {'Content': 'Emit main heading/title in the beginning; Emit the conclusive part at the end of the text; Exclude slang or colloquial language; Do not consume topics and content from the future chapters and sections; Avoid fragmented structures with lots of subtitles'})\n",
            "[2, 2] The Quest for New Elements Prompt(directives: {'Instruction': 'Explore the quest for new elements by Lise Meitner and Otto Hahn, including the experiments, discoveries, and challenges they faced.'}, guidelines: {'Role': 'Narrator', 'Style': 'Informative and Engaging', 'Format': 'Essay', 'Context': 'Historical and Scientific', 'Audience Awareness': 'General readers with an interest in science and history', 'Structuring and Organization': 'Logical flow with clear transitions between sections', 'Tone and Voice': 'Professional yet accessible, creating a connection with the reader', 'Active vs. Passive Voice': 'Prefer active voice for direct and engaging writing'}, constraints: {'Content': 'Emit main heading/title in the beginning; Emit the conclusive part at the end of the text; Exclude slang or colloquial language; Do not consume topics and content from the future chapters and sections; Avoid fragmented structures with lots of subtitles'})\n",
            "{'current_index': [2, 1], 'current_prompt': Prompt(directives={'Instruction': 'Describe the early years of collaboration between Lise Meitner and Otto Hahn, including their scientific goals and achievements.'}, guidelines={'Role': 'Narrator', 'Style': 'Informative and Engaging', 'Format': 'Essay', 'Context': 'Historical and Scientific', 'Audience Awareness': 'General readers with an interest in science and history', 'Structuring and Organization': 'Logical flow with clear transitions between sections', 'Tone and Voice': 'Professional yet accessible, creating a connection with the reader', 'Active vs. Passive Voice': 'Prefer active voice for direct and engaging writing'}, constraints={'Content': 'Emit main heading/title in the beginning; Emit the conclusive part at the end of the text; Exclude slang or colloquial language; Do not consume topics and content from the future chapters and sections; Avoid fragmented structures with lots of subtitles'}), 'next_prompt_directives': {'Instruction': 'Explore the quest for new elements by Lise Meitner and Otto Hahn, including the experiments, discoveries, and challenges they faced.'}}\n"
          ]
        }
      ],
      "source": [
        "# Moving to the next section and getting instruction for content creation.\n",
        "print(toc_manuscript.move_to_next_section_and_get_prompts())\n",
        "# The first section is just a section title, moving to the next section.\n",
        "print(toc_manuscript.move_to_next_section_and_get_prompts())"
      ]
    },
    {
      "cell_type": "code",
      "execution_count": 12,
      "id": "680b48b6-ff91-4e89-8efa-7bf431a09d69",
      "metadata": {
        "ExecuteTime": {
          "end_time": "2023-08-08T12:56:20.567495+00:00",
          "start_time": "2023-08-08T12:56:20.409065+00:00"
        },
        "noteable": {
          "cell_type": "code",
          "output_collection_id": "005fbccc-261e-4fe8-ae7f-a87677ae303b"
        }
      },
      "outputs": [],
      "source": [
        "# Setting the content for the 'Early Years of Collaboration' section and marking it as complete\n",
        "content = \"\"\"The early years of collaboration between Lise Meitner and Otto Hahn marked a significant chapter in the history of nuclear physics. Their partnership, which began in 1907, laid the groundwork for some of the most important discoveries in the field.\\n\\nMeitner and Hahn first crossed paths at the Kaiser Wilhelm Institute in Berlin, where Meitner had moved to pursue her research. Hahn, a talented chemist, was already working on radioactivity, and Meitner's expertise in physics made her an ideal collaborator. Their initial meeting was characterized by mutual respect and a shared passion for scientific exploration.\\n\\nIn the early years of their collaboration, Meitner and Hahn focused on understanding the nature of radioactive substances. They worked closely together, conducting experiments and analyzing results. Their complementary skills allowed them to make significant progress in isolating and identifying various radioactive elements.\\n\\nOne of their notable achievements during this period was the discovery of the element protactinium in 1917. This discovery was a result of meticulous experimentation and careful analysis, reflecting the duo's commitment to rigorous scientific inquiry.\\n\\nThe nature of their working relationship was unique for the time. Meitner and Hahn maintained a professional partnership based on equality and collaboration. They shared ideas, challenged each other's thinking, and celebrated their successes together. This collaborative spirit was instrumental in driving their scientific achievements.\\n\\nHowever, their work was not without challenges. The early 20th century was a time when female scientists often faced barriers and biases. Meitner's role as a leading physicist in a male-dominated field was groundbreaking, and her collaboration with Hahn was a testament to her talent and determination.\\n\\nThe early years of collaboration between Lise Meitner and Otto Hahn set the stage for their later groundbreaking work on nuclear fission. Their partnership, characterized by mutual respect, shared goals, and a commitment to scientific excellence, left an indelible mark on the field of nuclear physics. It is a story of scientific discovery, innovation, and a partnership that transcended the norms of their time.\\n\"\"\"\n",
        "toc_manuscript.set_currently_editing_content(content, completed=True)"
      ]
    },
    {
      "cell_type": "code",
      "execution_count": 13,
      "id": "8f328977-94f5-4f8f-aaf3-ef5a3baeb5de",
      "metadata": {
        "ExecuteTime": {
          "end_time": "2023-08-08T12:56:22.228852+00:00",
          "start_time": "2023-08-08T12:56:22.070211+00:00"
        },
        "noteable": {
          "cell_type": "code",
          "output_collection_id": "e46f1424-f218-4f47-96c0-b1f3c6d1e919"
        }
      },
      "outputs": [
        {
          "name": "stdout",
          "output_type": "stream",
          "text": [
            "[2, 2] The Quest for New Elements Prompt(directives: {'Instruction': 'Explore the quest for new elements by Lise Meitner and Otto Hahn, including the experiments, discoveries, and challenges they faced.'}, guidelines: {'Role': 'Narrator', 'Style': 'Informative and Engaging', 'Format': 'Essay', 'Context': 'Historical and Scientific', 'Audience Awareness': 'General readers with an interest in science and history', 'Structuring and Organization': 'Logical flow with clear transitions between sections', 'Tone and Voice': 'Professional yet accessible, creating a connection with the reader', 'Active vs. Passive Voice': 'Prefer active voice for direct and engaging writing'}, constraints: {'Content': 'Emit main heading/title in the beginning; Emit the conclusive part at the end of the text; Exclude slang or colloquial language; Do not consume topics and content from the future chapters and sections; Avoid fragmented structures with lots of subtitles'})\n",
            "[3] The Discovery of Nuclear Fission \n",
            "Section title 'The Discovery of Nuclear Fission' has no prompt for the content generation. Move on to the next section?\n",
            "{'current_index': [2, 2], 'current_prompt': Prompt(directives={'Instruction': 'Explore the quest for new elements by Lise Meitner and Otto Hahn, including the experiments, discoveries, and challenges they faced.'}, guidelines={'Role': 'Narrator', 'Style': 'Informative and Engaging', 'Format': 'Essay', 'Context': 'Historical and Scientific', 'Audience Awareness': 'General readers with an interest in science and history', 'Structuring and Organization': 'Logical flow with clear transitions between sections', 'Tone and Voice': 'Professional yet accessible, creating a connection with the reader', 'Active vs. Passive Voice': 'Prefer active voice for direct and engaging writing'}, constraints={'Content': 'Emit main heading/title in the beginning; Emit the conclusive part at the end of the text; Exclude slang or colloquial language; Do not consume topics and content from the future chapters and sections; Avoid fragmented structures with lots of subtitles'})}\n"
          ]
        }
      ],
      "source": [
        "# Moving to the next section and getting instruction for content creation.\n",
        "print(toc_manuscript.move_to_next_section_and_get_prompts())"
      ]
    },
    {
      "cell_type": "code",
      "execution_count": 14,
      "id": "82bb16c4-c507-490f-9edd-0e777026aa10",
      "metadata": {
        "ExecuteTime": {
          "end_time": "2023-08-08T12:56:23.302412+00:00",
          "start_time": "2023-08-08T12:56:23.143465+00:00"
        },
        "noteable": {
          "cell_type": "code",
          "output_collection_id": "cb44323e-d7c4-4b5f-8290-48c02d4180c0"
        }
      },
      "outputs": [],
      "source": [
        "# Setting the content for the 'The Quest for New Elements' section and marking it as complete\n",
        "content = \"\"\"The Quest for New Elements: Lise Meitner and Otto Hahn's Pioneering Journey\\n\\nThe early 20th century was a time of great scientific curiosity and exploration, particularly in the field of chemistry and physics. Among the many scientists working to unravel the mysteries of the atomic world were Lise Meitner and Otto Hahn. Their quest for new elements stands as a remarkable chapter in the annals of science.\\n\\nMeitner and Hahn's collaboration was marked by a relentless pursuit of knowledge and a desire to push the boundaries of what was known about the atomic nucleus. They embarked on a series of experiments aimed at discovering new elements, a task that required both creativity and precision.\\n\\nTheir work was conducted in the laboratory at the Kaiser Wilhelm Institute, where they utilized state-of-the-art equipment and techniques. They focused on the study of radioactive decay, a process that could lead to the formation of new elements. By bombarding various substances with alpha particles and carefully analyzing the resulting products, they sought to identify previously unknown elements.\\n\\nOne of their significant achievements in this quest was the discovery of the element protactinium in 1917. This discovery was a testament to their meticulous approach and their ability to interpret complex experimental data. It also marked a significant contribution to the understanding of the periodic table.\\n\\nThe quest for new elements was not without challenges. The experiments were often complex and required careful control of variables. The interpretation of results was equally demanding, requiring a deep understanding of nuclear physics and chemistry. Meitner's expertise in physics and Hahn's knowledge of chemistry proved to be a powerful combination, allowing them to overcome these challenges.\\n\\nTheir work also took place against the backdrop of a turbulent time in history, with World War I and its aftermath impacting their research. Despite these external pressures, Meitner and Hahn remained committed to their scientific goals, demonstrating resilience and determination.\\n\\nThe quest for new elements by Lise Meitner and Otto Hahn is a story of scientific innovation, collaboration, and perseverance. Their work laid the groundwork for further discoveries in nuclear physics and contributed to the broader understanding of the atomic world. It is a testament to the power of curiosity, creativity, and collaboration in the pursuit of scientific discovery.\\n\"\"\"\n",
        "toc_manuscript.set_currently_editing_content(content, completed=True)"
      ]
    },
    {
      "cell_type": "code",
      "execution_count": 15,
      "id": "4a34a581-3482-4567-8438-1e557fbb110f",
      "metadata": {
        "ExecuteTime": {
          "end_time": "2023-08-08T12:56:29.517139+00:00",
          "start_time": "2023-08-08T12:56:29.357672+00:00"
        },
        "noteable": {
          "cell_type": "code",
          "output_collection_id": "81974b65-50dd-41fa-bed4-bf0ea3b1fd45"
        }
      },
      "outputs": [
        {
          "name": "stdout",
          "output_type": "stream",
          "text": [
            "[3] The Discovery of Nuclear Fission \n",
            "Section title 'The Discovery of Nuclear Fission' has no prompt for the content generation. Move on to the next section?\n",
            "{'current_index': [3], 'current_prompt': ''}\n",
            "[3, 1] EThe Puzzling Experiment Prompt(directives: {'Instruction': 'Describe the puzzling experiment that led to the discovery of nuclear fission, including the setup, observations, and initial interpretations.'}, guidelines: {'Role': 'Narrator', 'Style': 'Informative and Engaging', 'Format': 'Essay', 'Context': 'Historical and Scientific', 'Audience Awareness': 'General readers with an interest in science and history', 'Structuring and Organization': 'Logical flow with clear transitions between sections', 'Tone and Voice': 'Professional yet accessible, creating a connection with the reader', 'Active vs. Passive Voice': 'Prefer active voice for direct and engaging writing'}, constraints: {'Content': 'Emit main heading/title in the beginning; Emit the conclusive part at the end of the text; Exclude slang or colloquial language; Do not consume topics and content from the future chapters and sections; Avoid fragmented structures with lots of subtitles'})\n",
            "[3, 2] he Breakthrough Insight Prompt(directives: {'Instruction': 'Explain the breakthrough insight that allowed Lise Meitner and her collaborators to understand nuclear fission, including the scientific reasoning and the role of key individuals.'}, guidelines: {'Role': 'Narrator', 'Style': 'Informative and Engaging', 'Format': 'Essay', 'Context': 'Historical and Scientific', 'Audience Awareness': 'General readers with an interest in science and history', 'Structuring and Organization': 'Logical flow with clear transitions between sections', 'Tone and Voice': 'Professional yet accessible, creating a connection with the reader', 'Active vs. Passive Voice': 'Prefer active voice for direct and engaging writing'}, constraints: {'Content': 'Emit main heading/title in the beginning; Emit the conclusive part at the end of the text; Exclude slang or colloquial language; Do not consume topics and content from the future chapters and sections; Avoid fragmented structures with lots of subtitles'})\n",
            "{'current_index': [3, 1], 'current_prompt': Prompt(directives={'Instruction': 'Describe the puzzling experiment that led to the discovery of nuclear fission, including the setup, observations, and initial interpretations.'}, guidelines={'Role': 'Narrator', 'Style': 'Informative and Engaging', 'Format': 'Essay', 'Context': 'Historical and Scientific', 'Audience Awareness': 'General readers with an interest in science and history', 'Structuring and Organization': 'Logical flow with clear transitions between sections', 'Tone and Voice': 'Professional yet accessible, creating a connection with the reader', 'Active vs. Passive Voice': 'Prefer active voice for direct and engaging writing'}, constraints={'Content': 'Emit main heading/title in the beginning; Emit the conclusive part at the end of the text; Exclude slang or colloquial language; Do not consume topics and content from the future chapters and sections; Avoid fragmented structures with lots of subtitles'}), 'next_prompt_directives': {'Instruction': 'Explain the breakthrough insight that allowed Lise Meitner and her collaborators to understand nuclear fission, including the scientific reasoning and the role of key individuals.'}}\n"
          ]
        }
      ],
      "source": [
        "# Moving to the next section and getting instruction for content creation.\n",
        "print(toc_manuscript.move_to_next_section_and_get_prompts())\n",
        "# The first section is just a section title, moving to the next section.\n",
        "print(toc_manuscript.move_to_next_section_and_get_prompts())"
      ]
    },
    {
      "cell_type": "code",
      "execution_count": 16,
      "id": "134a15f6-896f-428f-80d2-1bce952f347b",
      "metadata": {
        "ExecuteTime": {
          "end_time": "2023-08-08T12:56:32.296797+00:00",
          "start_time": "2023-08-08T12:56:32.138573+00:00"
        },
        "noteable": {
          "cell_type": "code",
          "output_collection_id": "4493233c-59ac-4a21-a554-6f30a9fd83e0"
        }
      },
      "outputs": [],
      "source": [
        "# Setting the content for the 'The Puzzling Experiment' section and marking it as complete\n",
        "content = \"\"\"In the annals of scientific discovery, few experiments have been as puzzling and transformative as the one that led to the understanding of nuclear fission. Conducted by Lise Meitner, Otto Hahn, and Fritz Strassmann, this experiment would ultimately reshape our understanding of the atomic nucleus and pave the way for a new era in nuclear science.\\n\\nThe experiment began with a simple yet profound question: What happens when uranium is bombarded with neutrons? To answer this question, the team set up a series of experiments using a neutron source and uranium targets. They carefully controlled the conditions, ensuring that the results would be as accurate as possible.\\n\\nAs the team bombarded the uranium with neutrons, they observed something truly puzzling. Instead of producing heavier elements as expected, the uranium seemed to be breaking down into lighter elements. This observation was in stark contrast to the prevailing understanding of nuclear reactions at the time.\\n\\nThe team meticulously analyzed the products of the reaction, identifying the presence of barium, a much lighter element than uranium. This finding was so unexpected that it initially led to disbelief and confusion.\\n\\nThe initial interpretations of the experiment were fraught with uncertainty. The presence of barium seemed to defy the known laws of nuclear physics. How could uranium, a heavy element, break down into something as light as barium?\\n\\nLise Meitner, with her deep understanding of nuclear physics, began to ponder the implications of the findings. Collaborating with her nephew Otto Frisch, she developed a theoretical explanation for the observations. They realized that the uranium nucleus was splitting into two roughly equal parts, releasing a tremendous amount of energy in the process. This phenomenon came to be known as nuclear fission.\\n\"\"\"\n",
        "toc_manuscript.set_currently_editing_content(content, completed=True)"
      ]
    },
    {
      "cell_type": "code",
      "execution_count": 17,
      "id": "9417feb7-7271-4ec8-ba49-4154f1b4489f",
      "metadata": {
        "ExecuteTime": {
          "end_time": "2023-08-08T12:56:34.033387+00:00",
          "start_time": "2023-08-08T12:56:33.874673+00:00"
        },
        "noteable": {
          "cell_type": "code",
          "output_collection_id": "99b7788d-f381-4a34-872e-897e6016e61b"
        }
      },
      "outputs": [
        {
          "name": "stdout",
          "output_type": "stream",
          "text": [
            "[3, 2] he Breakthrough Insight Prompt(directives: {'Instruction': 'Explain the breakthrough insight that allowed Lise Meitner and her collaborators to understand nuclear fission, including the scientific reasoning and the role of key individuals.'}, guidelines: {'Role': 'Narrator', 'Style': 'Informative and Engaging', 'Format': 'Essay', 'Context': 'Historical and Scientific', 'Audience Awareness': 'General readers with an interest in science and history', 'Structuring and Organization': 'Logical flow with clear transitions between sections', 'Tone and Voice': 'Professional yet accessible, creating a connection with the reader', 'Active vs. Passive Voice': 'Prefer active voice for direct and engaging writing'}, constraints: {'Content': 'Emit main heading/title in the beginning; Emit the conclusive part at the end of the text; Exclude slang or colloquial language; Do not consume topics and content from the future chapters and sections; Avoid fragmented structures with lots of subtitles'})\n",
            "[3, 3] The Impact on Science Prompt(directives: {'Instruction': 'Discuss the impact of the discovery of nuclear fission on science, technology, and society, including its influence on subsequent research and applications.'}, guidelines: {'Role': 'Narrator', 'Style': 'Informative and Engaging', 'Format': 'Essay', 'Context': 'Historical and Scientific', 'Audience Awareness': 'General readers with an interest in science and history', 'Structuring and Organization': 'Logical flow with clear transitions between sections', 'Tone and Voice': 'Professional yet accessible, creating a connection with the reader', 'Active vs. Passive Voice': 'Prefer active voice for direct and engaging writing'}, constraints: {'Content': 'Emit main heading/title in the beginning; Emit the conclusive part at the end of the text; Exclude slang or colloquial language; Do not consume topics and content from the future chapters and sections; Avoid fragmented structures with lots of subtitles'})\n",
            "{'current_index': [3, 2], 'current_prompt': Prompt(directives={'Instruction': 'Explain the breakthrough insight that allowed Lise Meitner and her collaborators to understand nuclear fission, including the scientific reasoning and the role of key individuals.'}, guidelines={'Role': 'Narrator', 'Style': 'Informative and Engaging', 'Format': 'Essay', 'Context': 'Historical and Scientific', 'Audience Awareness': 'General readers with an interest in science and history', 'Structuring and Organization': 'Logical flow with clear transitions between sections', 'Tone and Voice': 'Professional yet accessible, creating a connection with the reader', 'Active vs. Passive Voice': 'Prefer active voice for direct and engaging writing'}, constraints={'Content': 'Emit main heading/title in the beginning; Emit the conclusive part at the end of the text; Exclude slang or colloquial language; Do not consume topics and content from the future chapters and sections; Avoid fragmented structures with lots of subtitles'}), 'next_prompt_directives': {'Instruction': 'Discuss the impact of the discovery of nuclear fission on science, technology, and society, including its influence on subsequent research and applications.'}}\n"
          ]
        }
      ],
      "source": [
        "# Moving to the next section and getting instruction for content creation.\n",
        "print(toc_manuscript.move_to_next_section_and_get_prompts())"
      ]
    },
    {
      "cell_type": "code",
      "execution_count": 18,
      "id": "dcdbdb2d-b5a8-4979-9fde-80ec6c441004",
      "metadata": {
        "ExecuteTime": {
          "end_time": "2023-08-08T12:57:04.987897+00:00",
          "start_time": "2023-08-08T12:57:04.830206+00:00"
        },
        "noteable": {
          "cell_type": "code",
          "output_collection_id": "9b60e7ff-53a6-4171-b1a0-c01ae78db05c"
        }
      },
      "outputs": [],
      "source": [
        "# Setting the content for the 'The Breakthrough Insight' section and marking it as complete\n",
        "content = \"\"\"The breakthrough insight that allowed Lise Meitner and her collaborators to understand nuclear fission was a moment of profound scientific realization. It was a turning point that not only solved the puzzle of the unexpected experimental results but also opened a new frontier in nuclear physics.\\n\\nThe insight came after the puzzling observation that uranium was breaking down into lighter elements, specifically barium, when bombarded with neutrons. This phenomenon was contrary to the prevailing understanding of nuclear reactions, and it left the scientific community baffled.\\n\\nLise Meitner, a physicist with a deep understanding of nuclear physics, took on the challenge of unraveling this mystery. Collaborating with her nephew Otto Frisch, she began to explore the theoretical implications of the experimental findings.\\n\\nThe key to the breakthrough was the application of the liquid-drop model to the atomic nucleus. Meitner and Frisch realized that the uranium nucleus could be visualized as a liquid drop that could split into two roughly equal parts under certain conditions. This splitting would release a tremendous amount of energy, explaining the observations.\\n\\nThe role of key individuals in this discovery cannot be overstated. Meitner's theoretical insight, combined with the meticulous experimental work of Otto Hahn and Fritz Strassmann, led to a comprehensive understanding of nuclear fission. The collaboration between these scientists, each contributing their unique expertise, was instrumental in achieving this breakthrough.\\n\"\"\"\n",
        "toc_manuscript.set_currently_editing_content(content, completed=True)"
      ]
    },
    {
      "cell_type": "code",
      "execution_count": 19,
      "id": "8267be7c-2806-43d7-ac8c-8286191ceab0",
      "metadata": {
        "ExecuteTime": {
          "end_time": "2023-08-08T12:57:16.902864+00:00",
          "start_time": "2023-08-08T12:57:16.743837+00:00"
        },
        "noteable": {
          "cell_type": "code",
          "output_collection_id": "2680f78e-9291-46b2-841b-f88842ca3308"
        }
      },
      "outputs": [
        {
          "name": "stdout",
          "output_type": "stream",
          "text": [
            "[3, 3] The Impact on Science Prompt(directives: {'Instruction': 'Discuss the impact of the discovery of nuclear fission on science, technology, and society, including its influence on subsequent research and applications.'}, guidelines: {'Role': 'Narrator', 'Style': 'Informative and Engaging', 'Format': 'Essay', 'Context': 'Historical and Scientific', 'Audience Awareness': 'General readers with an interest in science and history', 'Structuring and Organization': 'Logical flow with clear transitions between sections', 'Tone and Voice': 'Professional yet accessible, creating a connection with the reader', 'Active vs. Passive Voice': 'Prefer active voice for direct and engaging writing'}, constraints: {'Content': 'Emit main heading/title in the beginning; Emit the conclusive part at the end of the text; Exclude slang or colloquial language; Do not consume topics and content from the future chapters and sections; Avoid fragmented structures with lots of subtitles'})\n",
            "[4] Challenges and Triumphs \n",
            "Section title 'Challenges and Triumphs' has no prompt for the content generation. Move on to the next section?\n",
            "{'current_index': [3, 3], 'current_prompt': Prompt(directives={'Instruction': 'Discuss the impact of the discovery of nuclear fission on science, technology, and society, including its influence on subsequent research and applications.'}, guidelines={'Role': 'Narrator', 'Style': 'Informative and Engaging', 'Format': 'Essay', 'Context': 'Historical and Scientific', 'Audience Awareness': 'General readers with an interest in science and history', 'Structuring and Organization': 'Logical flow with clear transitions between sections', 'Tone and Voice': 'Professional yet accessible, creating a connection with the reader', 'Active vs. Passive Voice': 'Prefer active voice for direct and engaging writing'}, constraints={'Content': 'Emit main heading/title in the beginning; Emit the conclusive part at the end of the text; Exclude slang or colloquial language; Do not consume topics and content from the future chapters and sections; Avoid fragmented structures with lots of subtitles'})}\n"
          ]
        }
      ],
      "source": [
        "# Moving to the next section and getting instruction for content creation.\n",
        "print(toc_manuscript.move_to_next_section_and_get_prompts())"
      ]
    },
    {
      "cell_type": "code",
      "execution_count": 20,
      "id": "d8dcf2f4-ad42-4900-9a1d-6026d6e67499",
      "metadata": {
        "ExecuteTime": {
          "end_time": "2023-08-08T12:57:20.336506+00:00",
          "start_time": "2023-08-08T12:57:20.178017+00:00"
        },
        "noteable": {
          "cell_type": "code",
          "output_collection_id": "349bc9d0-89d6-4fed-9efc-1266dc8ff2cc"
        }
      },
      "outputs": [],
      "source": [
        "# Setting the content for the 'The Impact on Science' section and marking it as complete\n",
        "content = \"\"\"The discovery of nuclear fission by Lise Meitner and her collaborators marked a watershed moment in the history of science. Its impact reverberated across various fields, reshaping our understanding of the atomic nucleus and opening new horizons for research and applications.\\n\\nThe immediate scientific impact of the discovery was profound. It challenged existing theories and led to a reevaluation of the fundamental principles of nuclear physics. The understanding that a heavy nucleus could split into two lighter nuclei, releasing energy, sparked a flurry of research. It paved the way for further exploration of nuclear reactions and the development of new theoretical models.\\n\\nThe discovery of nuclear fission had a lasting influence on subsequent research in both physics and chemistry. It led to the development of nuclear reactors, enabling controlled fission reactions. This, in turn, facilitated the production of new isotopes and the study of their properties. The insights gained from nuclear fission research also contributed to advancements in areas such as nuclear medicine and materials science.\\n\\nOne of the most significant technological applications of nuclear fission was in the field of energy production. The ability to harness the energy released during fission reactions led to the development of nuclear power plants. These plants provided a new, efficient source of energy, reducing dependence on fossil fuels.\\n\\nThe societal implications of nuclear fission were equally far-reaching. While it brought the promise of clean energy, it also raised ethical considerations and concerns about safety and environmental impact. The role of nuclear fission in warfare, particularly the development of atomic bombs, added a complex dimension to the discourse around its use and regulation.\\n\\nThe lasting legacy of the discovery of nuclear fission is evident in its continued influence on science, technology, and society. It stands as a testament to the power of scientific inquiry, collaboration, and innovation. The discovery continues to inspire researchers and shape our world in ways that extend beyond the laboratory.\\n\"\"\"\n",
        "toc_manuscript.set_currently_editing_content(content, completed=True)"
      ]
    },
    {
      "cell_type": "code",
      "execution_count": 21,
      "id": "4599f518-5f30-4205-97f2-ce4e1b31d5ef",
      "metadata": {
        "ExecuteTime": {
          "end_time": "2023-08-08T12:57:51.396947+00:00",
          "start_time": "2023-08-08T12:57:51.236848+00:00"
        },
        "noteable": {
          "cell_type": "code",
          "output_collection_id": "6359d5a2-4028-44ee-b14c-5f340f51046a"
        }
      },
      "outputs": [
        {
          "name": "stdout",
          "output_type": "stream",
          "text": [
            "[4] Challenges and Triumphs \n",
            "Section title 'Challenges and Triumphs' has no prompt for the content generation. Move on to the next section?\n",
            "{'current_index': [4], 'current_prompt': ''}\n",
            "[4, 1] Gender Barriers in Science Prompt(directives: {'Instruction': 'Discuss the gender barriers in science that Lise Meitner faced, including societal attitudes, institutional challenges, and personal experiences.'}, guidelines: {'Role': 'Narrator', 'Style': 'Informative and Engaging', 'Format': 'Essay', 'Context': 'Historical and Scientific', 'Audience Awareness': 'General readers with an interest in science and history', 'Structuring and Organization': 'Logical flow with clear transitions between sections', 'Tone and Voice': 'Professional yet accessible, creating a connection with the reader', 'Active vs. Passive Voice': 'Prefer active voice for direct and engaging writing'}, constraints: {'Content': 'Emit main heading/title in the beginning; Emit the conclusive part at the end of the text; Exclude slang or colloquial language; Do not consume topics and content from the future chapters and sections; Avoid fragmented structures with lots of subtitles'})\n",
            "[4, 2] Recognition and Awards Prompt(directives: {'Instruction': 'Detail the recognition and awards that Lise Meitner received, including honors, accolades, and her legacy in the scientific community.'}, guidelines: {'Role': 'Narrator', 'Style': 'Informative and Engaging', 'Format': 'Essay', 'Context': 'Historical and Scientific', 'Audience Awareness': 'General readers with an interest in science and history', 'Structuring and Organization': 'Logical flow with clear transitions between sections', 'Tone and Voice': 'Professional yet accessible, creating a connection with the reader', 'Active vs. Passive Voice': 'Prefer active voice for direct and engaging writing'}, constraints: {'Content': 'Emit main heading/title in the beginning; Emit the conclusive part at the end of the text; Exclude slang or colloquial language; Do not consume topics and content from the future chapters and sections; Avoid fragmented structures with lots of subtitles'})\n",
            "{'current_index': [4, 1], 'current_prompt': Prompt(directives={'Instruction': 'Discuss the gender barriers in science that Lise Meitner faced, including societal attitudes, institutional challenges, and personal experiences.'}, guidelines={'Role': 'Narrator', 'Style': 'Informative and Engaging', 'Format': 'Essay', 'Context': 'Historical and Scientific', 'Audience Awareness': 'General readers with an interest in science and history', 'Structuring and Organization': 'Logical flow with clear transitions between sections', 'Tone and Voice': 'Professional yet accessible, creating a connection with the reader', 'Active vs. Passive Voice': 'Prefer active voice for direct and engaging writing'}, constraints={'Content': 'Emit main heading/title in the beginning; Emit the conclusive part at the end of the text; Exclude slang or colloquial language; Do not consume topics and content from the future chapters and sections; Avoid fragmented structures with lots of subtitles'}), 'next_prompt_directives': {'Instruction': 'Detail the recognition and awards that Lise Meitner received, including honors, accolades, and her legacy in the scientific community.'}}\n"
          ]
        }
      ],
      "source": [
        "# Moving to the next section and getting instruction for content creation.\n",
        "print(toc_manuscript.move_to_next_section_and_get_prompts())\n",
        "# The first section is just a section title, moving to the next section.\n",
        "print(toc_manuscript.move_to_next_section_and_get_prompts())"
      ]
    },
    {
      "cell_type": "code",
      "execution_count": 22,
      "id": "febfd64d-7731-43f4-9fdf-86c02584f7d0",
      "metadata": {
        "ExecuteTime": {
          "end_time": "2023-08-08T12:58:01.192831+00:00",
          "start_time": "2023-08-08T12:58:01.033474+00:00"
        },
        "noteable": {
          "cell_type": "code",
          "output_collection_id": "e533ca0d-56cb-45d7-8ecf-4b455882eae0"
        }
      },
      "outputs": [],
      "source": [
        "# Setting the content for the 'Gender Barriers in Science' section and marking it as complete\n",
        "content = \"\"\"Lise Meitner's journey through the world of science was marked not only by her groundbreaking discoveries but also by the formidable gender barriers she faced. In an era when women's participation in scientific research was often marginalized and dismissed, Meitner's experiences shed light on the challenges that women in science had to overcome.\\n\\nDuring Meitner's time, societal attitudes towards women in science were largely unfavorable. The prevailing belief was that women were unsuited for scientific pursuits, and their contributions were often overlooked or undervalued. This mindset permeated academic institutions, limiting opportunities for women to engage in research and advance their careers.\\n\\nMeitner faced institutional challenges that further hindered her progress. Despite her talents and achievements, she encountered discrimination and was often denied access to resources and facilities. Universities and research institutions were reluctant to hire women for prominent positions, and Meitner's gender became an obstacle in her pursuit of recognition and advancement.\\n\\nMeitner's personal experiences provide a vivid illustration of the gender barriers she encountered. She was often the only woman in her research groups, and her work was sometimes attributed to her male colleagues. Despite these challenges, Meitner persevered, maintaining her focus on her research and refusing to be deterred by the biases and prejudices she faced.\\n\\nDespite the obstacles, Meitner's determination and resilience allowed her to overcome the gender barriers in her path. Her collaboration with Otto Hahn and her role in the discovery of nuclear fission stand as testaments to her scientific prowess. Meitner's legacy extends beyond her scientific contributions; she became a symbol of perseverance and a trailblazer for women in science.\\n\\nThe story of Lise Meitner's struggle against gender barriers in science is both inspiring and instructive. It highlights the systemic challenges that women in science faced and continues to resonate with contemporary efforts to promote gender equality in the field. Meitner's life and work serve as a reminder that talent and determination can overcome even the most entrenched barriers, paving the way for future generations of women scientists.\\n\"\"\"\n",
        "toc_manuscript.set_currently_editing_content(content, completed=True)"
      ]
    },
    {
      "cell_type": "code",
      "execution_count": 23,
      "id": "f35116f3-0ce2-4cac-a743-7a6b3ebd033c",
      "metadata": {
        "ExecuteTime": {
          "end_time": "2023-08-08T12:58:04.502947+00:00",
          "start_time": "2023-08-08T12:58:04.343129+00:00"
        },
        "noteable": {
          "cell_type": "code",
          "output_collection_id": "abe91df2-6342-45b6-9b8c-31335f94cb14"
        }
      },
      "outputs": [
        {
          "name": "stdout",
          "output_type": "stream",
          "text": [
            "[4, 2] Recognition and Awards Prompt(directives: {'Instruction': 'Detail the recognition and awards that Lise Meitner received, including honors, accolades, and her legacy in the scientific community.'}, guidelines: {'Role': 'Narrator', 'Style': 'Informative and Engaging', 'Format': 'Essay', 'Context': 'Historical and Scientific', 'Audience Awareness': 'General readers with an interest in science and history', 'Structuring and Organization': 'Logical flow with clear transitions between sections', 'Tone and Voice': 'Professional yet accessible, creating a connection with the reader', 'Active vs. Passive Voice': 'Prefer active voice for direct and engaging writing'}, constraints: {'Content': 'Emit main heading/title in the beginning; Emit the conclusive part at the end of the text; Exclude slang or colloquial language; Do not consume topics and content from the future chapters and sections; Avoid fragmented structures with lots of subtitles'})\n",
            "[5] Conclusion \n",
            "Section title 'Conclusion' has no prompt for the content generation. Move on to the next section?\n",
            "{'current_index': [4, 2], 'current_prompt': Prompt(directives={'Instruction': 'Detail the recognition and awards that Lise Meitner received, including honors, accolades, and her legacy in the scientific community.'}, guidelines={'Role': 'Narrator', 'Style': 'Informative and Engaging', 'Format': 'Essay', 'Context': 'Historical and Scientific', 'Audience Awareness': 'General readers with an interest in science and history', 'Structuring and Organization': 'Logical flow with clear transitions between sections', 'Tone and Voice': 'Professional yet accessible, creating a connection with the reader', 'Active vs. Passive Voice': 'Prefer active voice for direct and engaging writing'}, constraints={'Content': 'Emit main heading/title in the beginning; Emit the conclusive part at the end of the text; Exclude slang or colloquial language; Do not consume topics and content from the future chapters and sections; Avoid fragmented structures with lots of subtitles'})}\n"
          ]
        }
      ],
      "source": [
        "# Moving to the next section and getting instruction for content creation.\n",
        "print(toc_manuscript.move_to_next_section_and_get_prompts())"
      ]
    },
    {
      "cell_type": "code",
      "execution_count": 24,
      "id": "13e9ab91-34fe-4ff9-b5fc-98cd0f9e7cc7",
      "metadata": {
        "ExecuteTime": {
          "end_time": "2023-08-08T12:58:05.807210+00:00",
          "start_time": "2023-08-08T12:58:05.648343+00:00"
        },
        "noteable": {
          "cell_type": "code",
          "output_collection_id": "fa389637-f476-410a-b2d7-ec9e46ccc4bb"
        }
      },
      "outputs": [],
      "source": [
        "# Setting the content for the 'Recognition and Awards' section and marking it as complete\n",
        "content = \"\"\"Lise Meitner's contributions to nuclear physics were not only groundbreaking but also widely recognized by her peers and the scientific community. Her work earned her numerous awards and honors, reflecting her status as a pioneering scientist and a symbol of excellence in her field.\\n\\nAmong the most significant recognitions Meitner received was her nomination for the Nobel Prize in Physics. Though she was not awarded the prize, her nomination itself was a testament to her remarkable achievements. She was also honored with the Max Planck Medal, one of the highest accolades in the field of physics, recognizing her contributions to the understanding of nuclear processes.\\n\\nMeitner's legacy extended beyond individual awards. She became a member of prestigious scientific societies, including the Royal Swedish Academy of Sciences and the German Physical Society. Her election to these esteemed bodies marked her as a leading figure in the scientific community and provided her with platforms to influence the direction of research and policy.\\n\\nThe recognition and awards that Meitner received were not merely symbolic; they played a crucial role in acknowledging her scientific prowess and her role in advancing the field of nuclear physics. Her honors served to validate her work, particularly in an era when women's contributions to science were often overlooked.\\n\\nHowever, the story of Meitner's recognition is also tinged with controversy. Despite her central role in the discovery of nuclear fission, she was overlooked for the Nobel Prize in Chemistry, which was awarded to her collaborator Otto Hahn. This omission has been the subject of debate and reflection, highlighting the complexities of recognition and the factors that influence how scientific contributions are evaluated and honored.\\n\\nThe legacy of Lise Meitner's recognition and awards continues to resonate today. Her story serves as a reminder of the importance of acknowledging and celebrating scientific achievements, regardless of gender or other biases. Meitner's life and work stand as an inspiring example of excellence, perseverance, and the pursuit of knowledge, leaving an indelible mark on the history of science.\\n\"\"\"\n",
        "toc_manuscript.set_currently_editing_content(content, completed=True)"
      ]
    },
    {
      "cell_type": "code",
      "execution_count": 25,
      "id": "57203504-64ab-4f22-81f8-548c996f36c3",
      "metadata": {
        "ExecuteTime": {
          "end_time": "2023-08-08T12:58:11.925267+00:00",
          "start_time": "2023-08-08T12:58:11.765673+00:00"
        },
        "noteable": {
          "cell_type": "code",
          "output_collection_id": "09913447-722e-4511-b1dc-933ac8c79e33"
        }
      },
      "outputs": [
        {
          "name": "stdout",
          "output_type": "stream",
          "text": [
            "[5] Conclusion \n",
            "Section title 'Conclusion' has no prompt for the content generation. Move on to the next section?\n",
            "{'current_index': [5], 'current_prompt': ''}\n",
            "[5, 1] Legacy of Lise Meitner Prompt(directives: {'Instruction': 'Reflect on the legacy of Lise Meitner, including her contributions to science, her influence on future generations, and her enduring significance.'}, guidelines: {'Role': 'Narrator', 'Style': 'Informative and Engaging', 'Format': 'Essay', 'Context': 'Historical and Scientific', 'Audience Awareness': 'General readers with an interest in science and history', 'Structuring and Organization': 'Logical flow with clear transitions between sections', 'Tone and Voice': 'Professional yet accessible, creating a connection with the reader', 'Active vs. Passive Voice': 'Prefer active voice for direct and engaging writing'}, constraints: {'Content': 'Emit main heading/title in the beginning; Emit the conclusive part at the end of the text; Exclude slang or colloquial language; Do not consume topics and content from the future chapters and sections; Avoid fragmented structures with lots of subtitles'})\n",
            "[5, 2] TThe Continuing Quest for Knowledge Prompt(directives: {'Instruction': 'Discuss the continuing quest for knowledge in nuclear physics and related fields, and how the work of Lise Meitner and her contemporaries continues to inspire.'}, guidelines: {'Role': 'Narrator', 'Style': 'Informative and Engaging', 'Format': 'Essay', 'Context': 'Historical and Scientific', 'Audience Awareness': 'General readers with an interest in science and history', 'Structuring and Organization': 'Logical flow with clear transitions between sections', 'Tone and Voice': 'Professional yet accessible, creating a connection with the reader', 'Active vs. Passive Voice': 'Prefer active voice for direct and engaging writing'}, constraints: {'Content': 'Emit main heading/title in the beginning; Emit the conclusive part at the end of the text; Exclude slang or colloquial language; Do not consume topics and content from the future chapters and sections; Avoid fragmented structures with lots of subtitles'})\n",
            "{'current_index': [5, 1], 'current_prompt': Prompt(directives={'Instruction': 'Reflect on the legacy of Lise Meitner, including her contributions to science, her influence on future generations, and her enduring significance.'}, guidelines={'Role': 'Narrator', 'Style': 'Informative and Engaging', 'Format': 'Essay', 'Context': 'Historical and Scientific', 'Audience Awareness': 'General readers with an interest in science and history', 'Structuring and Organization': 'Logical flow with clear transitions between sections', 'Tone and Voice': 'Professional yet accessible, creating a connection with the reader', 'Active vs. Passive Voice': 'Prefer active voice for direct and engaging writing'}, constraints={'Content': 'Emit main heading/title in the beginning; Emit the conclusive part at the end of the text; Exclude slang or colloquial language; Do not consume topics and content from the future chapters and sections; Avoid fragmented structures with lots of subtitles'}), 'next_prompt_directives': {'Instruction': 'Discuss the continuing quest for knowledge in nuclear physics and related fields, and how the work of Lise Meitner and her contemporaries continues to inspire.'}}\n"
          ]
        }
      ],
      "source": [
        "# Moving to the next section and getting instruction for content creation.\n",
        "print(toc_manuscript.move_to_next_section_and_get_prompts())\n",
        "# The first section is just a section title, moving to the next section.\n",
        "print(toc_manuscript.move_to_next_section_and_get_prompts())"
      ]
    },
    {
      "cell_type": "code",
      "execution_count": 26,
      "id": "21019b94-8c98-4ebc-b7a8-2cced06b27aa",
      "metadata": {
        "ExecuteTime": {
          "end_time": "2023-08-08T12:58:15.031493+00:00",
          "start_time": "2023-08-08T12:58:14.872971+00:00"
        },
        "noteable": {
          "cell_type": "code",
          "output_collection_id": "53e26b77-1cd2-4447-a772-bef941b2806f"
        }
      },
      "outputs": [],
      "source": [
        "# Setting the content for the 'Legacy of Lise Meitner' section and marking it as complete\n",
        "content = \"\"\"Lise Meitner's legacy extends far beyond her groundbreaking discoveries in nuclear physics. Her influence is felt not only in the scientific community but also in the broader cultural landscape, where she stands as a symbol of perseverance, innovation, and integrity.\\n\\nMeitner's work laid the foundation for many subsequent developments in nuclear science, including the advancement of nuclear energy and medical applications. Her insights into nuclear fission opened new horizons for research and technology, shaping the way we understand and utilize atomic processes.\\n\\nBeyond her scientific contributions, Meitner's story has become an inspiration for future generations of scientists, particularly women pursuing careers in STEM fields. Her determination to overcome barriers and biases, coupled with her unwavering commitment to scientific excellence, has made her a role model for those seeking to follow in her footsteps.\\n\\nHer influence also extends to the realm of education and public awareness. Meitner's life and work are often cited in discussions about the importance of diversity and inclusion in science, highlighting the need for a more equitable and supportive environment for all researchers.\\n\\nThe enduring significance of Lise Meitner's legacy is a testament to her unique blend of intellectual curiosity, ethical conviction, and human compassion. Her contributions to science continue to resonate, not only in the laboratories and classrooms but also in the broader societal discourse about the role of science in our lives.\\n\\nIn reflecting on the legacy of Lise Meitner, we are reminded of the power of individual creativity and courage to shape the course of scientific discovery and human progress. Her story serves as a beacon, guiding us toward a future where knowledge, collaboration, and empathy are celebrated as essential components of scientific advancement.\\n\"\"\"\n",
        "toc_manuscript.set_currently_editing_content(content, completed=True)"
      ]
    },
    {
      "cell_type": "code",
      "execution_count": 27,
      "id": "45bdbdab-56b7-4565-8e55-a4880c84c58b",
      "metadata": {
        "ExecuteTime": {
          "end_time": "2023-08-08T12:58:17.754936+00:00",
          "start_time": "2023-08-08T12:58:17.595847+00:00"
        },
        "noteable": {
          "cell_type": "code",
          "output_collection_id": "921c8426-9595-4a9f-8cee-dc09da253f17"
        }
      },
      "outputs": [
        {
          "name": "stdout",
          "output_type": "stream",
          "text": [
            "[5, 2] TThe Continuing Quest for Knowledge Prompt(directives: {'Instruction': 'Discuss the continuing quest for knowledge in nuclear physics and related fields, and how the work of Lise Meitner and her contemporaries continues to inspire.'}, guidelines: {'Role': 'Narrator', 'Style': 'Informative and Engaging', 'Format': 'Essay', 'Context': 'Historical and Scientific', 'Audience Awareness': 'General readers with an interest in science and history', 'Structuring and Organization': 'Logical flow with clear transitions between sections', 'Tone and Voice': 'Professional yet accessible, creating a connection with the reader', 'Active vs. Passive Voice': 'Prefer active voice for direct and engaging writing'}, constraints: {'Content': 'Emit main heading/title in the beginning; Emit the conclusive part at the end of the text; Exclude slang or colloquial language; Do not consume topics and content from the future chapters and sections; Avoid fragmented structures with lots of subtitles'})\n",
            "[5, 2] TThe Continuing Quest for Knowledge Prompt(directives: {'Instruction': 'Discuss the continuing quest for knowledge in nuclear physics and related fields, and how the work of Lise Meitner and her contemporaries continues to inspire.'}, guidelines: {'Role': 'Narrator', 'Style': 'Informative and Engaging', 'Format': 'Essay', 'Context': 'Historical and Scientific', 'Audience Awareness': 'General readers with an interest in science and history', 'Structuring and Organization': 'Logical flow with clear transitions between sections', 'Tone and Voice': 'Professional yet accessible, creating a connection with the reader', 'Active vs. Passive Voice': 'Prefer active voice for direct and engaging writing'}, constraints: {'Content': 'Emit main heading/title in the beginning; Emit the conclusive part at the end of the text; Exclude slang or colloquial language; Do not consume topics and content from the future chapters and sections; Avoid fragmented structures with lots of subtitles'})\n",
            "{'current_index': [5, 2], 'current_prompt': Prompt(directives={'Instruction': 'Discuss the continuing quest for knowledge in nuclear physics and related fields, and how the work of Lise Meitner and her contemporaries continues to inspire.'}, guidelines={'Role': 'Narrator', 'Style': 'Informative and Engaging', 'Format': 'Essay', 'Context': 'Historical and Scientific', 'Audience Awareness': 'General readers with an interest in science and history', 'Structuring and Organization': 'Logical flow with clear transitions between sections', 'Tone and Voice': 'Professional yet accessible, creating a connection with the reader', 'Active vs. Passive Voice': 'Prefer active voice for direct and engaging writing'}, constraints={'Content': 'Emit main heading/title in the beginning; Emit the conclusive part at the end of the text; Exclude slang or colloquial language; Do not consume topics and content from the future chapters and sections; Avoid fragmented structures with lots of subtitles'}), 'next_prompt_directives': {'Instruction': 'Discuss the continuing quest for knowledge in nuclear physics and related fields, and how the work of Lise Meitner and her contemporaries continues to inspire.'}}\n"
          ]
        }
      ],
      "source": [
        "# Moving to the next section and getting instruction for content creation.\n",
        "print(toc_manuscript.move_to_next_section_and_get_prompts())"
      ]
    },
    {
      "cell_type": "code",
      "execution_count": 28,
      "id": "2686e4e3-e9a8-46bf-84a0-62c9ccf0783f",
      "metadata": {
        "ExecuteTime": {
          "end_time": "2023-08-08T12:58:19.404117+00:00",
          "start_time": "2023-08-08T12:58:19.245425+00:00"
        },
        "noteable": {
          "cell_type": "code",
          "output_collection_id": "268b8791-b6c8-43bf-a97d-875b506ee2b1"
        }
      },
      "outputs": [],
      "source": [
        "# Setting the content for the 'The Continuing Quest for Knowledge' section and marking it as complete\n",
        "content = \"\"\"The pursuit of knowledge in nuclear physics and related fields is a journey that knows no end. It is a path marked by curiosity, innovation, and an insatiable desire to explore the unknown. The work of Lise Meitner and her contemporaries laid the groundwork for this ongoing exploration, igniting a spark that continues to inspire scientists today.\\n\\nIn the realm of nuclear physics, the quest for knowledge is as vibrant and dynamic as ever. Researchers are delving into the intricacies of atomic nuclei, uncovering new insights into their structure and behavior. The development of advanced technologies and methodologies is enabling scientists to probe deeper into the atomic world, unlocking secrets that were once beyond reach.\\n\\nThe legacy of Lise Meitner is felt in this continuing pursuit. Her pioneering work in nuclear fission not only revolutionized our understanding of atomic processes but also set the stage for subsequent generations of scientists. Her intellectual rigor, ethical principles, and collaborative spirit serve as a guiding light for those who follow in her footsteps.\\n\\nThis ongoing quest for knowledge has far-reaching implications. It fuels advancements in various fields, including medicine, where nuclear techniques are employed in diagnostics and treatment. In the energy sector, the potential for harnessing nuclear power offers promising solutions to global challenges. The exploration of nuclear phenomena also enriches our fundamental understanding of the universe, connecting the microscopic world of the atom to the vast cosmos.\\n\\nAs we reflect on the continuing quest for knowledge, we recognize that it is not merely an academic exercise. It is a human endeavor, driven by a passion for discovery and a commitment to pushing the boundaries of what is possible. The work of Lise Meitner and her contemporaries reminds us that science is a collaborative and cumulative effort, building on the achievements of the past to forge new paths into the future.\\n\\nThe story of nuclear physics is a testament to the power of curiosity, resilience, and collaboration. It is a narrative that continues to unfold, guided by the spirit of inquiry and the pursuit of truth. In this ever-evolving journey, the legacy of Lise Meitner serves as a beacon, illuminating the way forward and inspiring the next generation of scientists to embark on their own quests for knowledge.\\n\"\"\"\n",
        "toc_manuscript.set_currently_editing_content(content, completed=True)"
      ]
    },
    {
      "cell_type": "code",
      "execution_count": 29,
      "id": "47fc8ff3",
      "metadata": {},
      "outputs": [
        {
          "name": "stdout",
          "output_type": "stream",
          "text": [
            "[]  \n",
            "Section title not found. Have you reached the end of the table of contents?\n",
            "{'current_index': [], 'current_prompt': ''}\n"
          ]
        }
      ],
      "source": [
        "# Moving to the next section and getting instruction for content creation.\n",
        "print(toc_manuscript.move_to_next_section_and_get_prompts())"
      ]
    },
    {
      "cell_type": "code",
      "execution_count": 30,
      "id": "d0807750-599c-4a6f-8dbc-3f86413785a7",
      "metadata": {
        "ExecuteTime": {
          "end_time": "2023-08-08T12:59:18.290064+00:00",
          "start_time": "2023-08-08T12:59:18.129403+00:00"
        },
        "noteable": {
          "cell_type": "code",
          "output_collection_id": "bae778ce-147f-49aa-8a6d-3eda5f6d8a82"
        }
      },
      "outputs": [],
      "source": [
        "# Generating the final manuscript in Markdown format\n",
        "manuscript_md = toc_manuscript.generate()"
      ]
    },
    {
      "cell_type": "code",
      "execution_count": 31,
      "id": "1c207a72",
      "metadata": {},
      "outputs": [
        {
          "name": "stdout",
          "output_type": "stream",
          "text": [
            "output\\The_Forgotten_Experiment.md\n",
            "\n",
            "The Forgotten Experiment: The Tale of Lise Meitner and the Discovery of Nuclear Fission\n",
            "\n",
            "_Author_\n",
            "\n",
            "Name: Marko T. Manninen\n",
            "\n",
            "_Publication_\n",
            "\n",
            "Disclaimer: A.I. generated content for demonstration purposes only. Facts are not checked.\n",
            "\n",
            "# 1. Introduction\n",
            "\n",
            "\n",
            "## 1.1. Background of Nuclear Physics\n",
            "\n",
            "The origins of nuclear physics can be traced back to the late 19th century when scientists began to probe the inner workings of the atom. The discovery of radioactivity by Henri Becquerel in 1896, followed by M\n"
          ]
        }
      ],
      "source": [
        "print(toc_manuscript.get_filepath())\n",
        "print()\n",
        "print(manuscript_md[:500])"
      ]
    }
  ],
  "metadata": {
    "kernel_info": {
      "name": "python3"
    },
    "kernelspec": {
      "display_name": "Python 3.9",
      "language": "python",
      "name": "python3"
    },
    "language_info": {
      "codemirror_mode": {
        "name": "ipython",
        "version": 3
      },
      "file_extension": ".py",
      "mimetype": "text/x-python",
      "name": "python",
      "nbconvert_exporter": "python",
      "pygments_lexer": "ipython3",
      "version": "3.10.11"
    },
    "noteable": {
      "last_transaction_id": "d878836e-d64c-4e0c-b726-eca73f06d804"
    },
    "noteable-chatgpt": {
      "create_notebook": {
        "openai_conversation_id": "40032c9d-4deb-57e3-b6e3-ad2aea7ee25d",
        "openai_ephemeral_user_id": "0a2d742f-a458-53be-90a3-d9573cc43deb",
        "openai_subdivision1_iso_code": "FI-18"
      }
    },
    "selected_hardware_size": "small"
  },
  "nbformat": 4,
  "nbformat_minor": 5
}
